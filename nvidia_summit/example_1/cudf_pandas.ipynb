{
 "cells": [
  {
   "cell_type": "code",
   "execution_count": 9,
   "id": "b6922460-b8b0-4402-88fd-5f6db64e4a68",
   "metadata": {},
   "outputs": [
    {
     "name": "stdout",
     "output_type": "stream",
     "text": [
      "The cudf.pandas extension is already loaded. To reload it, use:\n",
      "  %reload_ext cudf.pandas\n"
     ]
    }
   ],
   "source": [
    "%load_ext cudf.pandas"
   ]
  },
  {
   "cell_type": "code",
   "execution_count": 10,
   "id": "9496f3b4-4b73-409f-be74-b8be0c703166",
   "metadata": {},
   "outputs": [],
   "source": [
    "import pandas as pd\n",
    "import numpy as np\n",
    "import seaborn as sns\n",
    "import matplotlib.pyplot as plt"
   ]
  },
  {
   "cell_type": "code",
   "execution_count": 12,
   "id": "957c9892-ca1c-4352-8450-e60c2656202c",
   "metadata": {},
   "outputs": [
    {
     "data": {
      "text/html": [
       "<pre style=\"white-space:pre;overflow-x:auto;line-height:normal;font-family:Menlo,'DejaVu Sans Mono',consolas,'Courier New',monospace\"><span style=\"font-style: italic\">                                                                                                                   </span>\n",
       "<span style=\"font-style: italic\">                                             Total time elapsed: 0.279 seconds                                     </span>\n",
       "<span style=\"font-style: italic\">                                           8 GPU function calls in 0.060 seconds                                   </span>\n",
       "<span style=\"font-style: italic\">                                           1 CPU function calls in 0.023 seconds                                   </span>\n",
       "<span style=\"font-style: italic\">                                                                                                                   </span>\n",
       "<span style=\"font-style: italic\">                                                           Stats                                                   </span>\n",
       "<span style=\"font-style: italic\">                                                                                                                   </span>\n",
       "┏━━━━━━━━━━━━━━━━━━━━━━━━━━━━━━━┳━━━━━━━━━━━━┳━━━━━━━━━━━━━┳━━━━━━━━━━━━━┳━━━━━━━━━━━━┳━━━━━━━━━━━━━┳━━━━━━━━━━━━━┓\n",
       "┃<span style=\"font-weight: bold\"> Function                      </span>┃<span style=\"font-weight: bold\"> GPU ncalls </span>┃<span style=\"font-weight: bold\"> GPU cumtime </span>┃<span style=\"font-weight: bold\"> GPU percall </span>┃<span style=\"font-weight: bold\"> CPU ncalls </span>┃<span style=\"font-weight: bold\"> CPU cumtime </span>┃<span style=\"font-weight: bold\"> CPU percall </span>┃\n",
       "┡━━━━━━━━━━━━━━━━━━━━━━━━━━━━━━━╇━━━━━━━━━━━━╇━━━━━━━━━━━━━╇━━━━━━━━━━━━━╇━━━━━━━━━━━━╇━━━━━━━━━━━━━╇━━━━━━━━━━━━━┩\n",
       "│ date_range                    │ 1          │ 0.039       │ 0.039       │ 0          │ 0.000       │ 0.000       │\n",
       "│ Index.__len__                 │ 3          │ 0.001       │ 0.000       │ 0          │ 0.000       │ 0.000       │\n",
       "│ DataFrame                     │ 1          │ 0.007       │ 0.007       │ 0          │ 0.000       │ 0.000       │\n",
       "│ DatetimeIndex.indexer_betwee… │ 0          │ 0.000       │ 0.000       │ 1          │ 0.023       │ 0.023       │\n",
       "│ _LocationIndexer.__getitem__  │ 1          │ 0.005       │ 0.005       │ 0          │ 0.000       │ 0.000       │\n",
       "│ DataFrame.groupby             │ 1          │ 0.000       │ 0.000       │ 0          │ 0.000       │ 0.000       │\n",
       "│ GroupBy.mean                  │ 1          │ 0.008       │ 0.008       │ 0          │ 0.000       │ 0.000       │\n",
       "└───────────────────────────────┴────────────┴─────────────┴─────────────┴────────────┴─────────────┴─────────────┘\n",
       "</pre>\n"
      ],
      "text/plain": [
       "\u001b[3m                                                                                                                   \u001b[0m\n",
       "\u001b[3m                                             Total time elapsed: 0.279 seconds                                     \u001b[0m\n",
       "\u001b[3m                                           8 GPU function calls in 0.060 seconds                                   \u001b[0m\n",
       "\u001b[3m                                           1 CPU function calls in 0.023 seconds                                   \u001b[0m\n",
       "\u001b[3m                                                                                                                   \u001b[0m\n",
       "\u001b[3m                                                           Stats                                                   \u001b[0m\n",
       "\u001b[3m                                                                                                                   \u001b[0m\n",
       "┏━━━━━━━━━━━━━━━━━━━━━━━━━━━━━━━┳━━━━━━━━━━━━┳━━━━━━━━━━━━━┳━━━━━━━━━━━━━┳━━━━━━━━━━━━┳━━━━━━━━━━━━━┳━━━━━━━━━━━━━┓\n",
       "┃\u001b[1m \u001b[0m\u001b[1mFunction                     \u001b[0m\u001b[1m \u001b[0m┃\u001b[1m \u001b[0m\u001b[1mGPU ncalls\u001b[0m\u001b[1m \u001b[0m┃\u001b[1m \u001b[0m\u001b[1mGPU cumtime\u001b[0m\u001b[1m \u001b[0m┃\u001b[1m \u001b[0m\u001b[1mGPU percall\u001b[0m\u001b[1m \u001b[0m┃\u001b[1m \u001b[0m\u001b[1mCPU ncalls\u001b[0m\u001b[1m \u001b[0m┃\u001b[1m \u001b[0m\u001b[1mCPU cumtime\u001b[0m\u001b[1m \u001b[0m┃\u001b[1m \u001b[0m\u001b[1mCPU percall\u001b[0m\u001b[1m \u001b[0m┃\n",
       "┡━━━━━━━━━━━━━━━━━━━━━━━━━━━━━━━╇━━━━━━━━━━━━╇━━━━━━━━━━━━━╇━━━━━━━━━━━━━╇━━━━━━━━━━━━╇━━━━━━━━━━━━━╇━━━━━━━━━━━━━┩\n",
       "│ date_range                    │ 1          │ 0.039       │ 0.039       │ 0          │ 0.000       │ 0.000       │\n",
       "│ Index.__len__                 │ 3          │ 0.001       │ 0.000       │ 0          │ 0.000       │ 0.000       │\n",
       "│ DataFrame                     │ 1          │ 0.007       │ 0.007       │ 0          │ 0.000       │ 0.000       │\n",
       "│ DatetimeIndex.indexer_betwee… │ 0          │ 0.000       │ 0.000       │ 1          │ 0.023       │ 0.023       │\n",
       "│ _LocationIndexer.__getitem__  │ 1          │ 0.005       │ 0.005       │ 0          │ 0.000       │ 0.000       │\n",
       "│ DataFrame.groupby             │ 1          │ 0.000       │ 0.000       │ 0          │ 0.000       │ 0.000       │\n",
       "│ GroupBy.mean                  │ 1          │ 0.008       │ 0.008       │ 0          │ 0.000       │ 0.000       │\n",
       "└───────────────────────────────┴────────────┴─────────────┴─────────────┴────────────┴─────────────┴─────────────┘\n"
      ]
     },
     "metadata": {},
     "output_type": "display_data"
    },
    {
     "data": {
      "text/html": [
       "<pre style=\"white-space:pre;overflow-x:auto;line-height:normal;font-family:Menlo,'DejaVu Sans Mono',consolas,'Courier New',monospace\">Not all pandas operations ran on the GPU. The following functions required CPU fallback:\n",
       "\n",
       "- DatetimeIndex.indexer_between_time\n",
       "\n",
       "</pre>\n"
      ],
      "text/plain": [
       "Not all pandas operations ran on the GPU. The following functions required CPU fallback:\n",
       "\n",
       "- DatetimeIndex.indexer_between_time\n",
       "\n"
      ]
     },
     "metadata": {},
     "output_type": "display_data"
    },
    {
     "data": {
      "text/html": [
       "<pre style=\"white-space:pre;overflow-x:auto;line-height:normal;font-family:Menlo,'DejaVu Sans Mono',consolas,'Courier New',monospace\">To request GPU support for any of these functions, please file a Github issue here: \n",
       "<a href=\"https://github.com/rapidsai/cudf/issues/new?assignees=&labels=%3F+-+Needs+Triage%2C+feature+request&projects=&template=pandas_function_request.md&title=%5BFEA%5D\" target=\"_blank\"><span style=\"color: #0000ff; text-decoration-color: #0000ff; text-decoration: underline\">https://github.com/rapidsai/cudf/issues/new/choose</span></a><span style=\"color: #0000ff; text-decoration-color: #0000ff; text-decoration: underline\">.</span>\n",
       "</pre>\n"
      ],
      "text/plain": [
       "To request GPU support for any of these functions, please file a Github issue here: \n",
       "\u001b]8;id=491193;https://github.com/rapidsai/cudf/issues/new?assignees=&labels=%3F+-+Needs+Triage%2C+feature+request&projects=&template=pandas_function_request.md&title=%5BFEA%5D\u001b\\\u001b[4;94mhttps://github.com/rapidsai/cudf/issues/new/choose\u001b[0m\u001b]8;;\u001b\\\u001b[4;94m.\u001b[0m\n"
      ]
     },
     "metadata": {},
     "output_type": "display_data"
    }
   ],
   "source": [
    "%%cudf.pandas.profile\n",
    "#synthetize some time series data\n",
    "rng = pd.date_range(\"2023-01-01\",\"2023-02-01\", periods=1_000_000)\n",
    "df = pd.DataFrame({\n",
    "    \"id\": np.random.randint(len(rng)),\n",
    "    \"a\": np.random.rand(len(rng)),\n",
    "    \"b\": np.random.rand(len(rng)),\n",
    "}, index=rng)\n",
    "\n",
    "# filter for data between 9:00 am and 4:00 pm\n",
    "df = df.iloc[rng.indexer_between_time(\"09:30\",\"16:00\")]\n",
    "\n",
    "# group and compute on the data\n",
    "results = df.groupby(\"id\").mean()"
   ]
  },
  {
   "cell_type": "code",
   "execution_count": 13,
   "id": "21399ee7-2876-4a7b-8b08-38aba49c64f8",
   "metadata": {},
   "outputs": [
    {
     "data": {
      "image/png": "[encoded data removed]",
      "text/plain": [
       "<Figure size 640x480 with 1 Axes>"
      ]
     },
     "metadata": {},
     "output_type": "display_data"
    }
   ],
   "source": [
    "_ = sns.lineplot(results)\n",
    "_ = plt.xticks(rotation=30)"
   ]
  },
  {
   "cell_type": "code",
   "execution_count": null,
   "id": "9e496ece-b031-452c-8899-ce436d50a046",
   "metadata": {},
   "outputs": [],
   "source": []
  }
 ],
 "metadata": {
  "kernelspec": {
   "display_name": "Python 3 (ipykernel)",
   "language": "python",
   "name": "python3"
  },
  "language_info": {
   "codemirror_mode": {
    "name": "ipython",
    "version": 3
   },
   "file_extension": ".py",
   "mimetype": "text/x-python",
   "name": "python",
   "nbconvert_exporter": "python",
   "pygments_lexer": "ipython3",
   "version": "3.11.11"
  }
 },
 "nbformat": 4,
 "nbformat_minor": 5
}
