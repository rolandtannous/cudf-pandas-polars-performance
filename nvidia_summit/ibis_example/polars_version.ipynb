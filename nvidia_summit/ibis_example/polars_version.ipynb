{
 "cells": [
  {
   "cell_type": "code",
   "execution_count": 1,
   "id": "d5c50f64-6432-4463-935b-4c4b157b1fcc",
   "metadata": {},
   "outputs": [],
   "source": [
    "import polars as pl\n",
    "import numpy as np"
   ]
  },
  {
   "cell_type": "code",
   "execution_count": 2,
   "id": "fbd39570-4911-4afb-9167-bafc711abaee",
   "metadata": {},
   "outputs": [],
   "source": [
    "rng = np.random.default_rng(12)\n",
    "\n",
    "N = 10_000_000\n",
    "K = 5"
   ]
  },
  {
   "cell_type": "code",
   "execution_count": 4,
   "id": "79711777-1222-4cff-a38b-9c0747ab65da",
   "metadata": {},
   "outputs": [],
   "source": [
    "#Create DataFrame\n",
    "df = pl.DataFrame(\n",
    "    {f\"c{x}\": rng.integers(0, 100, N) for x in range(K)}\n",
    ")\n",
    "df = df.with_columns(\n",
    "    pl.Series(\"key\", rng.choice(np.arange(100), N))\n",
    ")"
   ]
  },
  {
   "cell_type": "code",
   "execution_count": 5,
   "id": "a2ff957d-6824-465c-b086-e4623be2e1a6",
   "metadata": {},
   "outputs": [
    {
     "name": "stdout",
     "output_type": "stream",
     "text": [
      "1.58 s ± 7.98 ms per loop (mean ± std. dev. of 2 runs, 2 loops each)\n"
     ]
    }
   ],
   "source": [
    "%%timeit -r2 -n2\n",
    "# Perform the transformations\n",
    "# The equivalent operation in Polars\n",
    "res = (\n",
    "    df.sort([\"key\", \"c2\"])\n",
    "    .group_by(\"key\")\n",
    "    .agg([\n",
    "        pl.all().exclude(\"key\"),\n",
    "        (pl.col(\"c4\") - pl.col(\"c4\").shift()).alias(\"lagged\")\n",
    "    ])\n",
    "    .limit(10)\n",
    ")"
   ]
  },
  {
   "cell_type": "code",
   "execution_count": null,
   "id": "d33e0146-e68c-4da8-9adc-0138ba35c809",
   "metadata": {},
   "outputs": [],
   "source": []
  }
 ],
 "metadata": {
  "kernelspec": {
   "display_name": "Python 3 (ipykernel)",
   "language": "python",
   "name": "python3"
  },
  "language_info": {
   "codemirror_mode": {
    "name": "ipython",
    "version": 3
   },
   "file_extension": ".py",
   "mimetype": "text/x-python",
   "name": "python",
   "nbconvert_exporter": "python",
   "pygments_lexer": "ipython3",
   "version": "3.11.11"
  }
 },
 "nbformat": 4,
 "nbformat_minor": 5
}
