{
 "cells": [
  {
   "cell_type": "code",
   "execution_count": 1,
   "id": "8d5cb46c-9952-4453-946b-221fe0e13db8",
   "metadata": {},
   "outputs": [],
   "source": [
    "import ibis\n",
    "import pandas as pd\n",
    "import numpy as np"
   ]
  },
  {
   "cell_type": "code",
   "execution_count": 2,
   "id": "b8cc0a6e-b1b2-46f1-8491-2d6d95cb04bc",
   "metadata": {},
   "outputs": [],
   "source": [
    "ibis.set_backend(\"pandas\")"
   ]
  },
  {
   "cell_type": "code",
   "execution_count": 3,
   "id": "b113bd7c-254a-4c75-9f86-8aad860bdaee",
   "metadata": {},
   "outputs": [],
   "source": [
    "N=10_000_000\n",
    "K=5"
   ]
  },
  {
   "cell_type": "code",
   "execution_count": 4,
   "id": "7cef3ee7-0820-40df-9062-72b6d216cd50",
   "metadata": {},
   "outputs": [],
   "source": [
    "rng = np.random.default_rng(12)"
   ]
  },
  {
   "cell_type": "code",
   "execution_count": 5,
   "id": "b377f804-b7ad-4050-a0d6-282ed46c638a",
   "metadata": {},
   "outputs": [],
   "source": [
    "df = pd.DataFrame(rng.integers(0,100, (N,K)), columns=[f\"c{x}\" for x in np.arange(K)])\n",
    "df[\"key\"] = rng.choice(np.arange(100), N)\n",
    "t= ibis.memtable(df, name=\"t\")"
   ]
  },
  {
   "cell_type": "code",
   "execution_count": 6,
   "id": "b0cebf11-1eef-4ad6-83b0-5547c66b6bcd",
   "metadata": {},
   "outputs": [
    {
     "name": "stdout",
     "output_type": "stream",
     "text": [
      "11.7 s ± 85.2 ms per loop (mean ± std. dev. of 2 runs, 2 loops each)\n"
     ]
    }
   ],
   "source": [
    "%%timeit -r2 -n2\n",
    "\n",
    "res =(t.group_by(\"key\").order_by(\"c2\").mutate(lagged=t.c4 - t.c4.lag()).limit(10).to_pandas())"
   ]
  },
  {
   "cell_type": "code",
   "execution_count": null,
   "id": "1627b8b0-da17-4b03-9522-fde8f4608dac",
   "metadata": {},
   "outputs": [],
   "source": []
  }
 ],
 "metadata": {
  "kernelspec": {
   "display_name": "Python 3 (ipykernel)",
   "language": "python",
   "name": "python3"
  },
  "language_info": {
   "codemirror_mode": {
    "name": "ipython",
    "version": 3
   },
   "file_extension": ".py",
   "mimetype": "text/x-python",
   "name": "python",
   "nbconvert_exporter": "python",
   "pygments_lexer": "ipython3",
   "version": "3.11.11"
  }
 },
 "nbformat": 4,
 "nbformat_minor": 5
}
